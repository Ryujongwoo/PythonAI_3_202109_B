{
 "cells": [
  {
   "cell_type": "code",
   "execution_count": 1,
   "id": "cebab329",
   "metadata": {},
   "outputs": [],
   "source": [
    "import warnings\n",
    "warnings.filterwarnings('ignore')\n",
    "from IPython.display import Image\n",
    "import numpy as np\n",
    "import pandas as pd\n",
    "import seaborn as sns"
   ]
  },
  {
   "cell_type": "code",
   "execution_count": 2,
   "id": "30119cb7",
   "metadata": {},
   "outputs": [],
   "source": [
    "# 시각화 작업에 필요한 라이브러리를 설치하고 import 한다.\n",
    "# !pip install matplotlib\n",
    "import matplotlib.pyplot as plt # 그래프\n",
    "import matplotlib as mpl\n",
    "import matplotlib.font_manager as fm\n",
    "# 한글 폰트를 사용할 때 마이너스 데이터가 깨져 보이는 문제를 해결한다.\n",
    "mpl.rcParams['axes.unicode_minus'] = False\n",
    "# 그래프를 쥬피터 노트북 내부에 표시하기 위해 사용한다.\n",
    "%matplotlib inline"
   ]
  },
  {
   "cell_type": "code",
   "execution_count": 3,
   "id": "15a12809",
   "metadata": {},
   "outputs": [
    {
     "data": {
      "text/plain": [
       "array([  95,   89,   64,   86,  182,  124,  109,  139,  124,  180,  245,\n",
       "        239,  166,   89,  112,  193,  262,  303,  276,  354,  354,  280,\n",
       "        184,  198,  140,  157,  179,  188,  162,  104,  165,  231,  249,\n",
       "        192,  106,  132,   53,   -9,   -1,  -35, -132,  -39,   46,  -13,\n",
       "        -85,  -30,   40,   57,  102,   23], dtype=int32)"
      ]
     },
     "execution_count": 3,
     "metadata": {},
     "output_type": "execute_result"
    }
   ],
   "source": [
    "# 그래프를 그리기 위해 더미 데이터를 만든다.\n",
    "data = np.random.randint(-100, 100, 50).cumsum()\n",
    "data"
   ]
  },
  {
   "cell_type": "code",
   "execution_count": null,
   "id": "1a248048",
   "metadata": {},
   "outputs": [],
   "source": [
    "# matplotlib의 기본 폰트로 sans-serif가 지정되어있기 때문에 한글이 깨져서 보인다.\n",
    "plt.plot(range(50), data, 'm')\n",
    "plt.rcParams['figure.figsize'] = (12, 7) # 차트 크기\n",
    "plt.title('시간별 가격 추이') # 차트 제목\n",
    "plt.ylabel('가격') # y축 제목\n",
    "plt.xlabel('시간') # x축 제목\n",
    "plt.show()"
   ]
  },
  {
   "cell_type": "code",
   "execution_count": null,
   "id": "249f287e",
   "metadata": {},
   "outputs": [],
   "source": [
    "# 폰트를 설정하기에 앞서 matplotlib의 설정 정보(버전, 위치)를 확인한다.\n",
    "print('버전: ', mpl.__version__)\n",
    "print('설치 위치: ', mpl.__file__)\n",
    "print('설정 위치: ', mpl.get_configdir())\n",
    "print('캐시 위치: ', mpl.get_cachedir())"
   ]
  },
  {
   "cell_type": "code",
   "execution_count": null,
   "id": "877977b3",
   "metadata": {},
   "outputs": [],
   "source": [
    "# matplotlib의 설정 파일 위치를 확인한다.\n",
    "print('설정 파일 위치: ', mpl.matplotlib_fname())"
   ]
  },
  {
   "cell_type": "code",
   "execution_count": null,
   "id": "fe20fe2a",
   "metadata": {},
   "outputs": [],
   "source": [
    "# 컴퓨터에 설치된 폰트 목록을 얻어온다.\n",
    "font_list = fm.findSystemFonts(fontpaths=None, fontext='ttf')\n",
    "print(len(font_list))\n",
    "print(font_list[:10])"
   ]
  },
  {
   "cell_type": "code",
   "execution_count": null,
   "id": "fd8cd4be",
   "metadata": {},
   "outputs": [],
   "source": [
    "font_list = [f.name for f in fm.fontManager.ttflist]\n",
    "print(len(font_list))\n",
    "print(font_list[:10])"
   ]
  },
  {
   "cell_type": "code",
   "execution_count": null,
   "id": "8ac672d8",
   "metadata": {},
   "outputs": [],
   "source": [
    "# 나눔 글꼴을 사용할 예정이므로 이름에 'Nanum'이 포함된 폰트만 가져온다.\n",
    "font_list = [(f.name, f.fname) for f in fm.fontManager.ttflist if 'Nanum' in f.name]\n",
    "font_list"
   ]
  },
  {
   "cell_type": "code",
   "execution_count": null,
   "id": "7d21fc05",
   "metadata": {},
   "outputs": [],
   "source": [
    "# 위의 식을 실행한 결과 []로 나오면 캐시 폴더로 이동해 폴더의 모든 내용을 삭제한 후 해본다.\n",
    "# 그래두 안되면 아래의 식을 실행한다.\n",
    "mpl.font_manager._rebuild()"
   ]
  },
  {
   "cell_type": "markdown",
   "id": "f90c9074",
   "metadata": {},
   "source": [
    "한글 폰트를 사용하는 방법은 3가지가 있다."
   ]
  },
  {
   "cell_type": "code",
   "execution_count": null,
   "id": "0758d6ca",
   "metadata": {},
   "outputs": [],
   "source": [
    "# 1. FontProperties를 사용하는 방법 => 그래프의 폰트가 필요한 항목마다 지정한다.\n",
    "# 텍스트를 지정하는 항목에 지정해서 사용할 수 있고 지정해준 항목에만 해당 폰트가 적용된다.\n",
    "# matplotlib.pyplot => title(), xlabel(), ylabel(), legend(), text()\n",
    "# matplotlib.axes   => set_title()\n",
    "\n",
    "# 한글 폰트 파일의 경로와 이름을 지정한다.\n",
    "font = 'C:\\\\Windows\\\\Fonts\\\\NanumGothicCoding.ttf'\n",
    "fontprop = fm.FontProperties(fname=font, size=15)"
   ]
  },
  {
   "cell_type": "code",
   "execution_count": null,
   "id": "b06a8c91",
   "metadata": {},
   "outputs": [],
   "source": [
    "plt.plot(range(50), data, 'm')\n",
    "plt.rcParams['figure.figsize'] = (12, 7)\n",
    "plt.title('시간별 가격 추이', fontproperties=fontprop)\n",
    "plt.ylabel('가격', fontproperties=fontprop)\n",
    "plt.xlabel('시간', fontproperties=fontprop)\n",
    "plt.show()"
   ]
  },
  {
   "cell_type": "code",
   "execution_count": null,
   "id": "da009d37",
   "metadata": {},
   "outputs": [],
   "source": [
    "# 2. matplotlib 라이브러리의 rcParams[]로 전역 글꼴로 설정한다. => 쥬피터 노트북에서 파일을 실행할 때 마다\n",
    "# 해줘야 한다.\n",
    "print('기본으로 설정된 폰트 크기:', plt.rcParams['font.size'])\n",
    "print('기본으로 설정된 폰트 설정:', plt.rcParams['font.family'])"
   ]
  },
  {
   "cell_type": "code",
   "execution_count": null,
   "id": "0fe05305",
   "metadata": {},
   "outputs": [],
   "source": [
    "# 2-1\n",
    "plt.rcParams['font.size'] = 15\n",
    "plt.rcParams['font.family'] = 'NanumGothicCoding'"
   ]
  },
  {
   "cell_type": "code",
   "execution_count": null,
   "id": "822c70d8",
   "metadata": {},
   "outputs": [],
   "source": [
    "plt.plot(range(50), data, 'm')\n",
    "plt.rcParams['figure.figsize'] = (12, 7)\n",
    "plt.title('시간별 가격 추이')\n",
    "plt.ylabel('가격')\n",
    "plt.xlabel('시간')\n",
    "plt.show()"
   ]
  },
  {
   "cell_type": "code",
   "execution_count": null,
   "id": "7d157078",
   "metadata": {},
   "outputs": [],
   "source": [
    "# 2-2\n",
    "# rcParams[] 대신 FontProperties의 plt.rc를 사용하는 방법\n",
    "font = 'C:\\\\Windows\\\\Fonts\\\\NanumGothicCoding.ttf'\n",
    "font_name = fm.FontProperties(fname=font, size=15).get_name()\n",
    "print(font_name)\n",
    "plt.rc('font', family=font_name)"
   ]
  },
  {
   "cell_type": "code",
   "execution_count": null,
   "id": "6bd65b57",
   "metadata": {},
   "outputs": [],
   "source": [
    "plt.plot(range(50), data, 'm')\n",
    "plt.rcParams['figure.figsize'] = (12, 7)\n",
    "plt.title('시간별 가격 추이')\n",
    "plt.ylabel('가격')\n",
    "plt.xlabel('시간')\n",
    "plt.show()"
   ]
  },
  {
   "cell_type": "code",
   "execution_count": 4,
   "id": "1b7df371",
   "metadata": {},
   "outputs": [],
   "source": [
    "# 3. rcParams를 matplotlib 설정 파일에 직접 넣어준다. => 현재 컴퓨터의 모든 쥬피터 노트북에 적용된다.\n",
    "# font.family: NanumGothicCoding\n",
    "# 이곳에 폰트를 지정해 주면 현재 컴퓨터에서 쥬피터 노트북을 실행할 때 마다 바로 글꼴이 로드되도록 할 수 있다."
   ]
  },
  {
   "cell_type": "code",
   "execution_count": 5,
   "id": "851fe248",
   "metadata": {},
   "outputs": [
    {
     "data": {
      "image/png": "[encoded data removed]",
      "text/plain": [
       "<Figure size 432x288 with 1 Axes>"
      ]
     },
     "metadata": {
      "needs_background": "light"
     },
     "output_type": "display_data"
    }
   ],
   "source": [
    "plt.plot(range(50), data, 'm')\n",
    "plt.rcParams['figure.figsize'] = (12, 7)\n",
    "plt.title('시간별 가격 추이')\n",
    "plt.ylabel('가격')\n",
    "plt.xlabel('시간')\n",
    "plt.show()"
   ]
  },
  {
   "cell_type": "code",
   "execution_count": null,
   "id": "1e1c30ff",
   "metadata": {},
   "outputs": [],
   "source": []
  },
  {
   "cell_type": "code",
   "execution_count": null,
   "id": "c903ae56",
   "metadata": {},
   "outputs": [],
   "source": []
  },
  {
   "cell_type": "code",
   "execution_count": null,
   "id": "5f40b108",
   "metadata": {},
   "outputs": [],
   "source": []
  },
  {
   "cell_type": "code",
   "execution_count": null,
   "id": "2dd83824",
   "metadata": {},
   "outputs": [],
   "source": []
  },
  {
   "cell_type": "code",
   "execution_count": null,
   "id": "8a68ff57",
   "metadata": {},
   "outputs": [],
   "source": []
  },
  {
   "cell_type": "code",
   "execution_count": null,
   "id": "249f1d4a",
   "metadata": {},
   "outputs": [],
   "source": []
  },
  {
   "cell_type": "code",
   "execution_count": null,
   "id": "0525ff9a",
   "metadata": {},
   "outputs": [],
   "source": []
  },
  {
   "cell_type": "code",
   "execution_count": null,
   "id": "107830c4",
   "metadata": {},
   "outputs": [],
   "source": []
  }
 ],
 "metadata": {
  "kernelspec": {
   "display_name": "Python 3",
   "language": "python",
   "name": "python3"
  },
  "language_info": {
   "codemirror_mode": {
    "name": "ipython",
    "version": 3
   },
   "file_extension": ".py",
   "mimetype": "text/x-python",
   "name": "python",
   "nbconvert_exporter": "python",
   "pygments_lexer": "ipython3",
   "version": "3.6.8"
  }
 },
 "nbformat": 4,
 "nbformat_minor": 5
}
